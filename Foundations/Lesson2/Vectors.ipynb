{
 "cells": [
  {
   "cell_type": "markdown",
   "metadata": {
    "graffitiCellId": "id_ydb7da9"
   },
   "source": [
    "## Vector Containers\n",
    "\n",
    "### 1D Vectors\n",
    "\n",
    "C++ also has several container types that can be used for storing data. We will start with `vector`s, as these will be used throughout this lesson, but we will also introduce other container types as needed.\n",
    "\n",
    "Vectors are a sequence of elements of a single type, and have useful methods for getting the size, testing if the vector is empty, and adding elements to the vector."
   ]
  },
  {
   "cell_type": "code",
   "execution_count": null,
   "metadata": {
    "graffitiCellId": "id_qx41jvw",
    "graffitiConfig": {
     "executeCellViaGraffiti": "svhywhq_eirdqbh"
    }
   },
   "outputs": [],
   "source": [
    "#include <iostream>\n",
    "#include <vector>\n",
    "using std::vector;\n",
    "using std::cout;\n",
    "\n",
    "int main() {\n",
    "    // Three ways of declaring and initializing vectors.\n",
    "    vector<int> v_1{0, 1, 2};\n",
    "    vector<int> v_2 = {3, 4, 5};\n",
    "    vector<int> v_3;\n",
    "    v_3 = {6};\n",
    "    cout << \"Everything worked!\" << \"\\n\";\n",
    "}"
   ]
  },
  {
   "cell_type": "markdown",
   "metadata": {
    "graffitiCellId": "id_svhywhq"
   },
   "source": [
    "<span class=\"graffiti-highlight graffiti-id_svhywhq-id_eirdqbh\"><i></i><button>Run Code</button></span> &nbsp; <span class=\"graffiti-highlight graffiti-id_svhywhq-id_g4qu0fe\"><i></i><button>See Explanation</button></span>"
   ]
  },
  {
   "cell_type": "markdown",
   "metadata": {
    "graffitiCellId": "id_9fyyahs",
    "graffitiConfig": {
     "rows": 6,
     "terminalId": "id_9fyyahs",
     "type": "terminal"
    }
   },
   "source": [
    "<i>Loading terminal (id_9fyyahs), please wait...</i>"
   ]
  },
  {
   "cell_type": "markdown",
   "metadata": {
    "graffitiCellId": "id_gj93sl5"
   },
   "source": [
    "### 2D Vectors\n",
    "Unfortunately, there isn't a built-in way to print vectors in C++ using `cout`. You will learn how to access vector elements and you will write your own function to print vectors later. For now, you can see how vectors are created and stored. Below, you can see how to nest vectors to create 2D containers."
   ]
  },
  {
   "cell_type": "code",
   "execution_count": null,
   "metadata": {
    "graffitiCellId": "id_k4urhee",
    "graffitiConfig": {
     "executeCellViaGraffiti": "cn1rczn_gpkl4m8"
    }
   },
   "outputs": [],
   "source": [
    "#include <iostream>\n",
    "#include <vector>\n",
    "using std::vector;\n",
    "using std::cout;\n",
    "\n",
    "int main() {\n",
    "    // Creating a 2D vector.\n",
    "    vector<vector<int>> v {{1,2}, {3,4}};\n",
    "    cout << \"Great! A 2D vector has been created.\" << \"\\n\";\n",
    "}"
   ]
  },
  {
   "cell_type": "markdown",
   "metadata": {
    "graffitiCellId": "id_cn1rczn"
   },
   "source": [
    "<span class=\"graffiti-highlight graffiti-id_cn1rczn-id_gpkl4m8\"><i></i><button>Run Code</button></span> &nbsp; <span class=\"graffiti-highlight graffiti-id_cn1rczn-id_cqfrrc4\"><i></i><button>See Explanation</button></span>"
   ]
  },
  {
   "cell_type": "markdown",
   "metadata": {
    "graffitiCellId": "id_zi55r7y",
    "graffitiConfig": {
     "rows": 6,
     "terminalId": "id_zi55r7y",
     "type": "terminal"
    }
   },
   "source": [
    "<i>Loading terminal (id_zi55r7y), please wait...</i>"
   ]
  },
  {
   "cell_type": "markdown",
   "metadata": {
    "graffitiCellId": "id_c43z593"
   },
   "source": [
    "### Practice\n",
    "\n",
    "Practice declaring a `vector<int>` in the cell below, and assign the value `{6, 7, 8}`."
   ]
  },
  {
   "cell_type": "code",
   "execution_count": null,
   "metadata": {
    "graffitiCellId": "id_tsxegfd",
    "graffitiConfig": {
     "executeCellViaGraffiti": "1a1nu2i_5mgzhjx"
    }
   },
   "outputs": [],
   "source": [
    "#include <iostream>\n",
    "#include <vector>\n",
    "using std::vector;\n",
    "using std::cout;\n",
    "\n",
    "int main() {\n",
    "    // Declare and initialize a vector v here.\n",
    "    vector<int> v{6,7,8};\n",
    "}"
   ]
  },
  {
   "cell_type": "markdown",
   "metadata": {
    "graffitiCellId": "id_1a1nu2i"
   },
   "source": [
    "<span class=\"graffiti-highlight graffiti-id_1a1nu2i-id_5mgzhjx\"><i></i><button>Run Code</button></span> &nbsp; <span class=\"graffiti-highlight graffiti-id_1a1nu2i-id_aliy3cw\"><i></i><button>Show Solution</button></span>"
   ]
  },
  {
   "cell_type": "markdown",
   "metadata": {
    "graffitiCellId": "id_o8p0gry",
    "graffitiConfig": {
     "rows": 6,
     "terminalId": "id_o8p0gry",
     "type": "terminal"
    }
   },
   "source": [
    "<i>Loading terminal (id_o8p0gry), please wait...</i>"
   ]
  }
 ],
 "metadata": {
  "graffiti": {
   "firstAuthorId": "813558546",
   "id": "id_ngrn6v8",
   "language": "EN"
  },
  "kernelspec": {
   "display_name": "C++17",
   "language": "C++17",
   "name": "xeus-cling-cpp17"
  },
  "language_info": {
   "codemirror_mode": "text/x-c++src",
   "file_extension": ".cpp",
   "mimetype": "text/x-c++src",
   "name": "c++",
   "version": "-std=c++17"
  }
 },
 "nbformat": 4,
 "nbformat_minor": 2
}
