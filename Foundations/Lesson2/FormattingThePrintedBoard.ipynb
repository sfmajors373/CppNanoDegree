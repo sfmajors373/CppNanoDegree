{
 "cells": [
  {
   "cell_type": "markdown",
   "metadata": {
    "graffitiCellId": "id_seurkru"
   },
   "source": [
    "## Enums\n",
    "\n",
    "C++ allows you to define a custom type which has values limited to a specific range you list or \"enumerate\". This custom type is called an \"enum\".\n",
    "\n",
    "Suppose you were writing a program that stores information about each user's car, including the color. You could define a `Color` `enum` in your program, with a fixed range of all the acceptable values: \n",
    "- `white`\n",
    "- `black`\n",
    "- `blue`\n",
    "- `red`\n",
    "\n",
    "This way, you can be sure that each color is restricted to the acceptable set of values.\n",
    "\n",
    "Here is an example:"
   ]
  },
  {
   "cell_type": "code",
   "execution_count": null,
   "metadata": {
    "graffitiCellId": "id_2uzm52d",
    "graffitiConfig": {
     "executeCellViaGraffiti": "idmi6s1_lnhf654"
    }
   },
   "outputs": [],
   "source": [
    "#include <iostream>\n",
    "using std::cout;\n",
    "\n",
    "int main() \n",
    "{\n",
    "    // Create the enum Color with fixed values.\n",
    "    enum class Color {white, black, blue, red};\n",
    "\n",
    "    // Create a Color variable and set it to Color::blue.\n",
    "    Color my_color = Color::blue;\n",
    "\n",
    "    // Test to see if my car is red.\n",
    "    if (my_color == Color::red) {\n",
    "        cout << \"The color of my car is red!\" << \"\\n\";\n",
    "    } else {\n",
    "        cout << \"The color of my car is not red.\" << \"\\n\";\n",
    "    }\n",
    "}"
   ]
  },
  {
   "cell_type": "markdown",
   "metadata": {
    "graffitiCellId": "id_idmi6s1"
   },
   "source": [
    "<span class=\"graffiti-highlight graffiti-id_idmi6s1-id_lnhf654\"><i></i><button>Compile & Execute</button></span> &nbsp; <span class=\"graffiti-highlight graffiti-id_wxkg8r6-id_aq8cmvk\"><i></i><button>Explain</button></span>"
   ]
  },
  {
   "cell_type": "markdown",
   "metadata": {
    "graffitiCellId": "id_6jgm71y",
    "graffitiConfig": {
     "rows": 6,
     "terminalId": "id_m6c90jt",
     "type": "terminal"
    }
   },
   "source": [
    "<i>Loading terminal (id_6jgm71y), please wait...</i>"
   ]
  },
  {
   "cell_type": "markdown",
   "metadata": {
    "graffitiCellId": "id_l88arro"
   },
   "source": [
    "**Note:** In the example above, the keyword `enum` is followed by the keyword `class` and then the class name `Color`. This creates what are called \"scoped\" `enum`s. It is also possible, but [not advisable](https://github.com/isocpp/CppCoreGuidelines/blob/master/CppCoreGuidelines.md#Renum-class), to omit the `class` keyword and thus create \"unscoped\" `enums`. [More information is available at cppreference.com](https://en.cppreference.com/w/cpp/language/enum)."
   ]
  },
  {
   "cell_type": "markdown",
   "metadata": {
    "graffitiCellId": "id_ihfr4gf"
   },
   "source": [
    "### Example with a switch\n",
    "\n",
    "Below is another example of an `enum` being used. Here, a custom type `Direction` is created with four possible values: `kUp`, `kDown`, `kLeft`, `kRight`. One of these values is then stored in a variable and used in the <span class=\"graffiti-highlight graffiti-id_ihfr4gf-id_t60x32k\"><i></i>switch statement</span>."
   ]
  },
  {
   "cell_type": "code",
   "execution_count": null,
   "metadata": {
    "graffitiCellId": "id_7sb4h95",
    "graffitiConfig": {
     "executeCellViaGraffiti": "s46g5qt_74cgzri"
    }
   },
   "outputs": [],
   "source": [
    "#include <iostream>\n",
    "using std::cout;\n",
    "\n",
    "int main()\n",
    "{\n",
    "    enum class Direction {kUp, kDown, kLeft, kRight};\n",
    "\n",
    "    Direction a = Direction::kUp;\n",
    "\n",
    "    switch (a) {\n",
    "      case Direction::kUp : cout << \"Going up!\" << \"\\n\";\n",
    "        break;\n",
    "      case Direction::kDown : cout << \"Going down!\" << \"\\n\";\n",
    "        break;\n",
    "      case Direction::kLeft : cout << \"Going left!\" << \"\\n\";\n",
    "        break;\n",
    "      case Direction::kRight : cout << \"Going right!\" << \"\\n\";\n",
    "        break;\n",
    "    }\n",
    "}"
   ]
  },
  {
   "cell_type": "markdown",
   "metadata": {
    "graffitiCellId": "id_s46g5qt"
   },
   "source": [
    "<span class=\"graffiti-highlight graffiti-id_s46g5qt-id_74cgzri\"><i></i><button>Compile & Execute</button></span> &nbsp; <span class=\"graffiti-highlight graffiti-id_4wk9lpk-id_mswtmei\"><i></i><button>Explain</button></span>"
   ]
  },
  {
   "cell_type": "markdown",
   "metadata": {
    "graffitiCellId": "id_i9w0djk",
    "graffitiConfig": {
     "rows": 6,
     "terminalId": "id_h8tgdx1",
     "type": "terminal"
    }
   },
   "source": [
    "<i>Loading terminal (id_i9w0djk), please wait...</i>"
   ]
  },
  {
   "cell_type": "markdown",
   "metadata": {
    "graffitiCellId": "id_1hrhfjm"
   },
   "source": [
    "When you feel like you have understood the example above, try modifying the code to test different values, or define another `enum`"
   ]
  }
 ],
 "metadata": {
  "graffiti": {
   "firstAuthorId": "813558546",
   "id": "id_weysyeq",
   "language": "EN"
  },
  "kernelspec": {
   "display_name": "C++17",
   "language": "C++17",
   "name": "xeus-cling-cpp17"
  },
  "language_info": {
   "codemirror_mode": "text/x-c++src",
   "file_extension": ".cpp",
   "mimetype": "text/x-c++src",
   "name": "c++",
   "version": "-std=c++17"
  }
 },
 "nbformat": 4,
 "nbformat_minor": 2
}
