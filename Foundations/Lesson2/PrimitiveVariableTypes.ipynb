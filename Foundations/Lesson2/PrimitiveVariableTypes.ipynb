{
 "cells": [
  {
   "cell_type": "markdown",
   "metadata": {
    "graffitiCellId": "id_59ioypd"
   },
   "source": [
    "## Primitive Variable Types\n",
    "\n",
    "C++ has several \"primitive\" variable types, which are things like `int`s (integers), `string`s, `float`s, and others. These should be similar to variable types in other programming languages you have used. "
   ]
  },
  {
   "cell_type": "markdown",
   "metadata": {
    "graffitiCellId": "id_lyntt03"
   },
   "source": [
    "**Note:** In the cells below, variables will be declared and values assigned. In C++, once a variable has been declared, it can not be redeclared in the same scope. This means that if you try to declare a variable twice in the same function, you will see an error."
   ]
  },
  {
   "cell_type": "code",
   "execution_count": null,
   "metadata": {
    "graffitiCellId": "id_y66e4m7",
    "graffitiConfig": {
     "executeCellViaGraffiti": "cgwkwly_8cbygnp"
    }
   },
   "outputs": [],
   "source": [
    "#include <iostream>\n",
    "#include <string>\n",
    "using std::cout;\n",
    "\n",
    "int main() {\n",
    "    // Declaring and initializing an int variable.\n",
    "    int a = 9;\n",
    "    \n",
    "    // Declaring a string variable without initializing right away.\n",
    "    std::string b;\n",
    "    \n",
    "    // Initializing the string b.\n",
    "    b = \"Here is a string\";\n",
    "    \n",
    "    cout << a << \"\\n\";\n",
    "    cout << b << \"\\n\";\n",
    "}\n"
   ]
  },
  {
   "cell_type": "markdown",
   "metadata": {
    "graffitiCellId": "id_cgwkwly"
   },
   "source": [
    "<span class=\"graffiti-highlight graffiti-id_cgwkwly-id_8cbygnp\"><i></i><button>Run Code</button></span> &nbsp; <span class=\"graffiti-highlight graffiti-id_cgwkwly-id_tsanoa9\"><i></i><i></i><button>See Explanation</span></button></span>"
   ]
  },
  {
   "cell_type": "markdown",
   "metadata": {
    "graffitiCellId": "id_ur1bp7e",
    "graffitiConfig": {
     "rows": 6,
     "terminalId": "id_ur1bp7e",
     "type": "terminal"
    }
   },
   "source": [
    "<i>Loading terminal (id_ur1bp7e), please wait...</i>"
   ]
  },
  {
   "cell_type": "markdown",
   "metadata": {
    "graffitiCellId": "id_ztusej3"
   },
   "source": [
    "### Practice\n",
    "\n",
    "Practice declaring an `int` with the name `j` in the cell below and assing the value `10` to `j`."
   ]
  },
  {
   "cell_type": "code",
   "execution_count": null,
   "metadata": {
    "graffitiCellId": "id_dlkgsno",
    "graffitiConfig": {
     "executeCellViaGraffiti": "bzw649j_szy3b0r"
    }
   },
   "outputs": [],
   "source": [
    "#include <iostream>\n",
    "#include <string>\n",
    "using std::cout;\n",
    "\n",
    "int main() {\n",
    "    // Declare and initialize j here.\n",
    "    int j = 10;\n",
    "}\n"
   ]
  },
  {
   "cell_type": "markdown",
   "metadata": {
    "graffitiCellId": "id_bzw649j"
   },
   "source": [
    "<span class=\"graffiti-highlight graffiti-id_bzw649j-id_szy3b0r\"><i></i><button>Run Code</button></span> &nbsp;<span class=\"graffiti-highlight graffiti-id_bzw649j-id_ah67zcu\"><i></i><button>Show Solution</button></span>"
   ]
  },
  {
   "cell_type": "markdown",
   "metadata": {
    "graffitiCellId": "id_b73ssr8",
    "graffitiConfig": {
     "rows": 6,
     "terminalId": "id_b73ssr8",
     "type": "terminal"
    }
   },
   "source": [
    "<i>Loading terminal (id_b73ssr8), please wait...</i>"
   ]
  }
 ],
 "metadata": {
  "graffiti": {
   "firstAuthorId": "813558546",
   "id": "id_ngrn6v8",
   "language": "EN"
  },
  "kernelspec": {
   "display_name": "C++17",
   "language": "C++17",
   "name": "xeus-cling-cpp17"
  },
  "language_info": {
   "codemirror_mode": "text/x-c++src",
   "file_extension": ".cpp",
   "mimetype": "text/x-c++src",
   "name": "c++",
   "version": "-std=c++17"
  }
 },
 "nbformat": 4,
 "nbformat_minor": 2
}
