{
 "cells": [
  {
   "cell_type": "markdown",
   "metadata": {
    "graffitiCellId": "id_fk9y9bq"
   },
   "source": [
    "## 1D Vector Access\n",
    "\n",
    "To begin, it is helpful to know how to access vector elements of an existing vector. Execute the cells below to see how this can be done:"
   ]
  },
  {
   "cell_type": "code",
   "execution_count": null,
   "metadata": {
    "graffitiCellId": "id_hssaras",
    "graffitiConfig": {
     "executeCellViaGraffiti": "dycuabb_c77vb0n"
    }
   },
   "outputs": [],
   "source": [
    "#include <iostream>\n",
    "#include <vector>\n",
    "using std::vector;\n",
    "using std::cout;\n",
    "\n",
    "int main() {\n",
    "    vector<int> a = {0, 1, 2, 3, 4};\n",
    "    cout << a[0];\n",
    "    cout << a[1];\n",
    "    cout << a[2];\n",
    "    cout << \"\\n\";\n",
    "}"
   ]
  },
  {
   "cell_type": "markdown",
   "metadata": {
    "graffitiCellId": "id_dycuabb"
   },
   "source": [
    "<span class=\"graffiti-highlight graffiti-id_dycuabb-id_c77vb0n\"><i></i><button>Run Code</button></span>"
   ]
  },
  {
   "cell_type": "markdown",
   "metadata": {
    "graffitiCellId": "id_3x3ju6v",
    "graffitiConfig": {
     "rows": 6,
     "terminalId": "id_tuqun23",
     "type": "terminal"
    }
   },
   "source": [
    "<i>Loading terminal (id_3x3ju6v), please wait...</i>"
   ]
  },
  {
   "cell_type": "markdown",
   "metadata": {
    "graffitiCellId": "id_nfrvvdu"
   },
   "source": [
    "Great! Now try accessing some of the elements of vector `a` yourself in the cell bellow:"
   ]
  },
  {
   "cell_type": "code",
   "execution_count": null,
   "metadata": {
    "graffitiCellId": "id_slwlm8r",
    "graffitiConfig": {
     "executeCellViaGraffiti": "iy6lmm6_exm3vkz"
    }
   },
   "outputs": [],
   "source": [
    "#include <iostream>\n",
    "#include <vector>\n",
    "using std::vector;\n",
    "using std::cout;\n",
    "\n",
    "int main() {\n",
    "    vector<int> a = {0, 1, 2, 3, 4};\n",
    "    // Add some code here to access and print elements of a.\n",
    "    cout << a[4] << \" This should be 4 \" << \"\\n\";\n",
    "    cout << a[10] << \" Output of a[10] \" << \"\\n\";\n",
    "    cout << a[-1] << \" Output of index -1\";\n",
    "    cout << \"\\n\";\n",
    "}"
   ]
  },
  {
   "cell_type": "markdown",
   "metadata": {
    "graffitiCellId": "id_iy6lmm6"
   },
   "source": [
    "<span class=\"graffiti-highlight graffiti-id_iy6lmm6-id_exm3vkz\"><i></i><button>Run Code</button></span>&nbsp;\n",
    "<span class=\"graffiti-highlight graffiti-id_iy6lmm6-id_k04upxl\"><i></i><button>Show Solution</button></span>"
   ]
  },
  {
   "cell_type": "markdown",
   "metadata": {
    "graffitiCellId": "id_za35048",
    "graffitiConfig": {
     "rows": 6,
     "terminalId": "id_za35048",
     "type": "terminal"
    }
   },
   "source": [
    "<i>Loading terminal (id_za35048), please wait...</i>"
   ]
  },
  {
   "cell_type": "markdown",
   "metadata": {
    "graffitiCellId": "id_n53crjg"
   },
   "source": [
    "If you tried to access the elements of `a` using an out-of-bound index, you might have noticed that there is no error or exception thrown. If you haven't seen this already, try the following code in the cell above to see what happens:\n",
    "```\n",
    "cout << a[10];\n",
    "```"
   ]
  },
  {
   "cell_type": "markdown",
   "metadata": {
    "graffitiCellId": "id_otxcjw2"
   },
   "source": [
    "In this case, *the behavior is undefined*, so you can not depend on a certain value to be returned. Be careful about this! In a later lesson where you will learn about exceptions, we will discuss other ways to access vector elements that don't fail silently with out-of-range indices.\n",
    "\n",
    "## 2D Vector Access\n",
    "\n",
    "In the previous exercise, you stored a 2D vector - a `vector<vector<int>>`. The syntax for accessing elements of a 2D vector is very similar to accessing in a 1D vector. In the second cell below, try accessing an element of `b`. If you get stuck, click the solution button for help."
   ]
  },
  {
   "cell_type": "code",
   "execution_count": null,
   "metadata": {
    "graffitiCellId": "id_e6jn5p4",
    "graffitiConfig": {
     "executeCellViaGraffiti": "2ulwnxb_ljxwvgc"
    }
   },
   "outputs": [],
   "source": [
    "#include <iostream>\n",
    "#include <vector>\n",
    "using std::vector;\n",
    "using std::cout;\n",
    "\n",
    "int main() {\n",
    "    vector<vector<int>> b = {{1, 1, 2, 3},\n",
    "                             {2, 1, 2, 3},\n",
    "                             {3, 1, 2, 3}};\n",
    "    cout << b[0][0] << \" This should be 1\" << \"\\n\";\n",
    "    cout << b[2][2] << \" This should be 2\" << \"\\n\";\n",
    "    cout << b[1][0] << \" This should be 2\" << \"\\n\";\n",
    "}"
   ]
  },
  {
   "cell_type": "markdown",
   "metadata": {
    "graffitiCellId": "id_2ulwnxb"
   },
   "source": [
    "<span class=\"graffiti-highlight graffiti-id_2ulwnxb-id_ljxwvgc\"><i></i><button>Run Code</button></span> &nbsp; <span class=\"graffiti-highlight graffiti-id_2ulwnxb-id_fi0sdqt\"><i></i><button>Show Solution</button></span>"
   ]
  },
  {
   "cell_type": "markdown",
   "metadata": {
    "graffitiCellId": "id_cihsz4b",
    "graffitiConfig": {
     "rows": 6,
     "terminalId": "id_cihsz4b",
     "type": "terminal"
    }
   },
   "source": [
    "<i>Loading terminal (id_cihsz4b), please wait...</i>"
   ]
  },
  {
   "cell_type": "markdown",
   "metadata": {
    "graffitiCellId": "id_jnurl8n"
   },
   "source": [
    "## Getting a Vector's Length\n",
    "\n",
    "### 1D Vector Length\n",
    "\n",
    "One method of a `vector` object that will be useful in the next code exercise is the `.size()` method. This returns the length of the vector. Execute the cell below to see how this can be used:"
   ]
  },
  {
   "cell_type": "code",
   "execution_count": null,
   "metadata": {
    "graffitiCellId": "id_49xczwr",
    "graffitiConfig": {
     "executeCellViaGraffiti": "nuupied_43kpo9r"
    }
   },
   "outputs": [],
   "source": [
    "#include <iostream>\n",
    "#include <vector>\n",
    "using std::vector;\n",
    "using std::cout;\n",
    "\n",
    "int main() {\n",
    "    vector<int> a = {0, 1, 2, 3, 4};\n",
    "    \n",
    "    // Print the length of vector a to the console.\n",
    "    cout << a.size() << \"\\n\";\n",
    "}"
   ]
  },
  {
   "cell_type": "markdown",
   "metadata": {
    "graffitiCellId": "id_nuupied"
   },
   "source": [
    "<span class=\"graffiti-highlight graffiti-id_nuupied-id_43kpo9r\"><i></i><button>Run Code</button></span>"
   ]
  },
  {
   "cell_type": "markdown",
   "metadata": {
    "graffitiCellId": "id_jzilsrt",
    "graffitiConfig": {
     "rows": 6,
     "terminalId": "id_jzilsrt",
     "type": "terminal"
    }
   },
   "source": [
    "<i>Loading terminal (id_jzilsrt), please wait...</i>"
   ]
  },
  {
   "cell_type": "markdown",
   "metadata": {
    "graffitiCellId": "id_apst2ip"
   },
   "source": [
    "### 2D Vector Length\n",
    "\n",
    "For the `vector<vector<int>>` `b` defined above, try to get the size of one of the inner vectors - this should be 4. If you have trouble, click the button below for some help."
   ]
  },
  {
   "cell_type": "code",
   "execution_count": null,
   "metadata": {
    "graffitiCellId": "id_emicf3f",
    "graffitiConfig": {
     "executeCellViaGraffiti": "rnq0nee_pz6y5de"
    }
   },
   "outputs": [],
   "source": [
    "#include <iostream>\n",
    "#include <vector>\n",
    "using std::vector;\n",
    "using std::cout;\n",
    "\n",
    "int main() {\n",
    "\n",
    "    vector<vector<int>> b = {{1, 1, 2, 3},\n",
    "                             {2, 1, 2, 3},\n",
    "                             {3, 1, 2, 3}};\n",
    "    // Print the length of an inner vector of b here.\n",
    "    cout << b[0].size() << \"\\n\";\n",
    "}"
   ]
  },
  {
   "cell_type": "markdown",
   "metadata": {
    "graffitiCellId": "id_rnq0nee"
   },
   "source": [
    "<span class=\"graffiti-highlight graffiti-id_rnq0nee-id_pz6y5de\"><i></i><button>Run Code</button></span> &nbsp; <span class=\"graffiti-highlight graffiti-id_rnq0nee-id_h0xr8xv\"><i></i><button>Show Solution</button></span>"
   ]
  },
  {
   "cell_type": "markdown",
   "metadata": {
    "graffitiCellId": "id_7gepq7h",
    "graffitiConfig": {
     "rows": 6,
     "terminalId": "id_7gepq7h",
     "type": "terminal"
    }
   },
   "source": [
    "<i>Loading terminal (id_7gepq7h), please wait...</i>"
   ]
  },
  {
   "cell_type": "markdown",
   "metadata": {
    "graffitiCellId": "id_ekcrqoh"
   },
   "source": [
    "Nice work! You now know a little more about C++ vectors. After learning about for loops, you should be well prepared for the upcoming code exercises."
   ]
  }
 ],
 "metadata": {
  "graffiti": {
   "firstAuthorId": "10467858656",
   "id": "id_ikelrdx",
   "language": "EN"
  },
  "kernelspec": {
   "display_name": "C++17",
   "language": "C++17",
   "name": "xeus-cling-cpp17"
  },
  "language_info": {
   "codemirror_mode": "text/x-c++src",
   "file_extension": ".cpp",
   "mimetype": "text/x-c++src",
   "name": "c++",
   "version": "-std=c++17"
  }
 },
 "nbformat": 4,
 "nbformat_minor": 2
}
