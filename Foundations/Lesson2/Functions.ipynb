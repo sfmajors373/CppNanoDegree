{
 "cells": [
  {
   "cell_type": "markdown",
   "metadata": {
    "graffitiCellId": "id_u897ztr"
   },
   "source": [
    "## Functions\n",
    "\n",
    "In the cell below, there is a simple function to add two numbers and return the result. Test the code below, and click the button for a more in-depth explanation."
   ]
  },
  {
   "cell_type": "code",
   "execution_count": null,
   "metadata": {
    "graffitiCellId": "id_nmbcnev",
    "graffitiConfig": {
     "executeCellViaGraffiti": "hsqvaql_ftup8pz"
    }
   },
   "outputs": [],
   "source": [
    "#include <iostream>\n",
    "using std::cout;\n",
    "\n",
    "// Function declared and defined here.\n",
    "int AdditionFunction(int i, int j) \n",
    "{\n",
    "    return i + j;\n",
    "}\n",
    "\n",
    "int main() \n",
    "{\n",
    "    auto d = 3;\n",
    "    auto f = 7;\n",
    "    cout << AdditionFunction(d, f) << \"\\n\";\n",
    "}"
   ]
  },
  {
   "cell_type": "markdown",
   "metadata": {
    "graffitiCellId": "id_hsqvaql"
   },
   "source": [
    "<span class=\"graffiti-highlight graffiti-id_hsqvaql-id_ftup8pz\"><i></i><button>Compile & Execute</button></span> &nbsp;\n",
    "<span class=\"graffiti-highlight graffiti-id_aq7679b-id_inr2uft\"><i></i><button>Explain</button></span>"
   ]
  },
  {
   "cell_type": "markdown",
   "metadata": {
    "graffitiCellId": "id_doqs3ky",
    "graffitiConfig": {
     "rows": 6,
     "terminalId": "id_doqs3ky",
     "type": "terminal"
    }
   },
   "source": [
    "<i>Loading terminal (id_doqs3ky), please wait...</i>"
   ]
  },
  {
   "cell_type": "markdown",
   "metadata": {
    "graffitiCellId": "id_6wrb742"
   },
   "source": [
    "### Practice\n",
    "\n",
    "Now that you've seen how to define and call a function, try this yourself in the cell below with a slightly more complicated example. Your function should accept a `vector` of `int`s as its argument and return the sum of all the `int`s in the vector. If you get stuck, click the solution button for help."
   ]
  },
  {
   "cell_type": "code",
   "execution_count": null,
   "metadata": {
    "graffitiCellId": "id_5ieplmp",
    "graffitiConfig": {
     "executeCellViaGraffiti": "it918co_jw76vce"
    }
   },
   "outputs": [],
   "source": [
    "#include <iostream>\n",
    "#include <vector>\n",
    "using std::cout;\n",
    "using std::vector;\n",
    "\n",
    "// Define a function \"AdditionFunction\" here.\n",
    "// Instead of just two ints, this function should accept a vector<int> \n",
    "// as the argument, and it should return the sum of all the ints in the vector.\n",
    "int AdditionFunction(vector<int> v){\n",
    "    int runningTotal = 0;\n",
    "    for (int i:v){\n",
    "        runningTotal = runningTotal + i;\n",
    "    }\n",
    "    return runningTotal;\n",
    "}\n",
    "\n",
    "int main() \n",
    "{\n",
    "    vector<int> v {1, 2, 3};\n",
    "    \n",
    "    // Uncomment the following line to call your function:\n",
    "    cout << AdditionFunction(v) << \"\\n\";\n",
    "}"
   ]
  },
  {
   "cell_type": "markdown",
   "metadata": {
    "graffitiCellId": "id_it918co"
   },
   "source": [
    "<span class=\"graffiti-highlight graffiti-id_it918co-id_jw76vce\"><i></i><button>Compile & Execute</button></span> &nbsp;\n",
    "<span class=\"graffiti-highlight graffiti-id_nzusmvn-id_7pw1t8n\"><i></i><button>Show Solution</button></span>"
   ]
  },
  {
   "cell_type": "markdown",
   "metadata": {
    "graffitiCellId": "id_48n55jo",
    "graffitiConfig": {
     "rows": 6,
     "terminalId": "id_48n55jo",
     "type": "terminal"
    }
   },
   "source": [
    "<i>Loading terminal (id_48n55jo), please wait...</i>"
   ]
  },
  {
   "cell_type": "markdown",
   "metadata": {
    "graffitiCellId": "id_zzx6952"
   },
   "source": [
    "## Void Return Type\n",
    "\n",
    "Sometimes a function doesn't need to return anything. For example, a function might simply modify an object that is passed into it, or it might just print to the terminal. If a function doesn't need to return a value, the `void` type can be used for the return type. Using the function syntax provided above, write a function `PrintStrings` that takes two strings as arguments and prints both of them. If you are having trouble, click the solution button for help.\n"
   ]
  },
  {
   "cell_type": "code",
   "execution_count": null,
   "metadata": {
    "graffitiCellId": "id_bpqmkjz",
    "graffitiConfig": {
     "executeCellViaGraffiti": "dftipdv_sy0f7po"
    }
   },
   "outputs": [],
   "source": [
    "#include <iostream>\n",
    "#include <string>\n",
    "using std::cout;\n",
    "using std::string;\n",
    "\n",
    "// Write the PrintStrings function here.\n",
    "void PrintStrings(string a, string b) {\n",
    "    cout << a << \" \" << b << \"\\n\";\n",
    "}\n",
    "\n",
    "int main() \n",
    "{\n",
    "    string s1 = \"C++ is \";\n",
    "    string s2 = \"super awesome.\";\n",
    "    \n",
    "    // Uncomment the following line to call your function:\n",
    "    PrintStrings(s1, s2);\n",
    "}"
   ]
  },
  {
   "cell_type": "markdown",
   "metadata": {
    "graffitiCellId": "id_dftipdv"
   },
   "source": [
    "<span class=\"graffiti-highlight graffiti-id_dftipdv-id_sy0f7po\"><i></i><button>Compile & Execute</button></span> &nbsp; \n",
    "<span class=\"graffiti-highlight graffiti-id_nqkq6gk-id_vxuohtz\"><i></i><button>Explain</button></span>"
   ]
  },
  {
   "cell_type": "markdown",
   "metadata": {
    "graffitiCellId": "id_cn1dl9q",
    "graffitiConfig": {
     "rows": 6,
     "terminalId": "id_cn1dl9q",
     "type": "terminal"
    }
   },
   "source": [
    "<i>Loading terminal (id_cn1dl9q), please wait...</i>"
   ]
  }
 ],
 "metadata": {
  "graffiti": {
   "firstAuthorId": "10467858656",
   "id": "id_ikelrdx",
   "language": "EN"
  },
  "kernelspec": {
   "display_name": "C++17",
   "language": "C++17",
   "name": "xeus-cling-cpp17"
  },
  "language_info": {
   "codemirror_mode": "text/x-c++src",
   "file_extension": ".cpp",
   "mimetype": "text/x-c++src",
   "name": "c++",
   "version": "-std=c++17"
  },
  "udacity": {
   "header": {
    "hidden": true
   },
   "menubar": {
    "hidden_menus": [
     "edit",
     "view",
     "insert",
     "cell",
     "kernel",
     "widgets",
     "help"
    ]
   },
   "toolbar": {
    "hidden": true
   }
  }
 },
 "nbformat": 4,
 "nbformat_minor": 2
}
