{
 "cells": [
  {
   "cell_type": "markdown",
   "metadata": {
    "graffitiCellId": "id_zl3lknb"
   },
   "source": [
    "## If Statements\n",
    "\n",
    "C++ `if` statements work very similarly to if statements in other languages. In C++, the boolean condition is contained in parentheses `(` and `)`, and the body of the statement is enclosed in curly brackets `{` and `}`. \n",
    "\n",
    "Try executing the cell below. Once you have done that, initialize the variable `a` to `true` and execute the cell again:"
   ]
  },
  {
   "cell_type": "code",
   "execution_count": null,
   "metadata": {
    "graffitiCellId": "id_nf0hn24",
    "graffitiConfig": {
     "executeCellViaGraffiti": "4vec6td_4v6jw8g"
    }
   },
   "outputs": [],
   "source": [
    "#include <iostream>\n",
    "using std::cout;\n",
    "\n",
    "int main() \n",
    "{\n",
    "\n",
    "    // Set a equal to true here.\n",
    "    bool a = true;\n",
    "\n",
    "    if (a) {\n",
    "      cout << \"Hooray! You made it into the if statement!\" << \"\\n\";\n",
    "    }\n",
    "}"
   ]
  },
  {
   "cell_type": "markdown",
   "metadata": {
    "graffitiCellId": "id_4vec6td"
   },
   "source": [
    "<span class=\"graffiti-highlight graffiti-id_4vec6td-id_4v6jw8g\"><i></i><button>Compile & Execute</button></span>&nbsp;\n",
    "<span class=\"graffiti-highlight graffiti-id_eio853x-id_xkwavy8\"><i></i><button>Explain</button></span>"
   ]
  },
  {
   "cell_type": "markdown",
   "metadata": {
    "graffitiCellId": "id_9bkwqcd",
    "graffitiConfig": {
     "rows": 6,
     "terminalId": "id_rxhr8ji",
     "type": "terminal"
    }
   },
   "source": [
    "<i>Loading terminal (id_9bkwqcd), please wait...</i>"
   ]
  },
  {
   "cell_type": "markdown",
   "metadata": {
    "graffitiCellId": "id_7ghut7f"
   },
   "source": [
    "## While Loops\n",
    "\n",
    "The syntax for a `while` loop looks very similar to the syntax for the `if` statement: "
   ]
  },
  {
   "cell_type": "code",
   "execution_count": null,
   "metadata": {
    "graffitiCellId": "id_npbqydb",
    "graffitiConfig": {
     "executeCellViaGraffiti": "oe35dyj_n27cxwq"
    }
   },
   "outputs": [],
   "source": [
    "#include <iostream>\n",
    "using std::cout;\n",
    "\n",
    "int main() \n",
    "{\n",
    "    auto i = 0;\n",
    "\n",
    "    while (i < 5) {\n",
    "      cout << i << \"\\n\";\n",
    "      i++;\n",
    "    }\n",
    "}"
   ]
  },
  {
   "cell_type": "markdown",
   "metadata": {
    "graffitiCellId": "id_oe35dyj"
   },
   "source": [
    "<span class=\"graffiti-highlight graffiti-id_oe35dyj-id_n27cxwq\"><i></i><button>Compile & Execute</button></span> &nbsp; <span class=\"graffiti-highlight graffiti-id_o28g1pz-id_cp1ejjp\"><i></i><button>Explain</button></span>"
   ]
  },
  {
   "cell_type": "markdown",
   "metadata": {
    "graffitiCellId": "id_o09ppgh",
    "graffitiConfig": {
     "rows": 10,
     "terminalId": "id_8jc6ddb",
     "type": "terminal"
    }
   },
   "source": [
    "<i>Loading terminal (id_o09ppgh), please wait...</i>"
   ]
  },
  {
   "cell_type": "markdown",
   "metadata": {
    "graffitiCellId": "id_w24ggj3"
   },
   "source": [
    "## Practice\n",
    "\n",
    "In the following code cell, you will combine a `while` loop with an `if` statement to print every other number. Write a while loop to iterate over the integers from 1 to 10. If the integer is even, print it out. \n",
    "\n",
    "Hint: you can tell if an integer is even by looking at its remainder after dividing by two. In C++, the remainder operator is `%`. In other words, for a given `int i`, you have `remainder = i % 2`. If `remainder` equals 0, the number is even. "
   ]
  },
  {
   "cell_type": "code",
   "execution_count": null,
   "metadata": {
    "graffitiCellId": "id_vaixvvo",
    "graffitiConfig": {
     "executeCellViaGraffiti": "s2f1iho_3ntug3j"
    }
   },
   "outputs": [],
   "source": [
    "#include <iostream>\n",
    "using std::cout;\n",
    "\n",
    "int main() \n",
    "{\n",
    "    // Write your code here.\n",
    "    int i = 1;\n",
    "    while (i <= 10) {\n",
    "        if ((i%2)==0) {\n",
    "            cout << i << \"\\n\";\n",
    "        }\n",
    "        i++;\n",
    "    }\n",
    "\n",
    "}"
   ]
  },
  {
   "cell_type": "markdown",
   "metadata": {
    "graffitiCellId": "id_s2f1iho"
   },
   "source": [
    "<span class=\"graffiti-highlight graffiti-id_s2f1iho-id_3ntug3j\"><i></i><button>Compile & Execute</button></span> &nbsp; <span class=\"graffiti-highlight graffiti-id_q514nct-id_4wn4h55\"><i></i><button>Show Solution</button></span>"
   ]
  },
  {
   "cell_type": "markdown",
   "metadata": {
    "graffitiCellId": "id_s8niqzl",
    "graffitiConfig": {
     "rows": 6,
     "terminalId": "id_nkapqbs",
     "type": "terminal"
    }
   },
   "source": [
    "<i>Loading terminal (id_s8niqzl), please wait...</i>"
   ]
  }
 ],
 "metadata": {
  "graffiti": {
   "firstAuthorId": "813558546",
   "id": "id_4evwuym",
   "language": "EN"
  },
  "kernelspec": {
   "display_name": "C++17",
   "language": "C++17",
   "name": "xeus-cling-cpp17"
  },
  "language_info": {
   "codemirror_mode": "text/x-c++src",
   "file_extension": ".cpp",
   "mimetype": "text/x-c++src",
   "name": "c++",
   "version": "-std=c++17"
  }
 },
 "nbformat": 4,
 "nbformat_minor": 2
}
