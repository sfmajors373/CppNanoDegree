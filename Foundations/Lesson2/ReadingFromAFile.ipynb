{
 "cells": [
  {
   "cell_type": "markdown",
   "metadata": {
    "graffitiCellId": "id_tneybtt"
   },
   "source": [
    "## File Input Streams\n",
    "\n",
    "### Creating an Input Stream Object\n",
    "\n",
    "In C++, you can use the `std::ifstream` object to handle input file streams. To do this, you will need to include the header file that provides the file streaming classes: `<fstream>`. "
   ]
  },
  {
   "cell_type": "markdown",
   "metadata": {
    "graffitiCellId": "id_pa3mtq4"
   },
   "source": [
    "Once the `<fstream>` header is included, a new input stream object can be declared and initialized using a file path `path`:\n",
    "```\n",
    "std::ifstream my_file;\n",
    "my_file.open(path);\n",
    "```"
   ]
  },
  {
   "cell_type": "markdown",
   "metadata": {
    "graffitiCellId": "id_fhbpnle"
   },
   "source": [
    "Alternatively, the declaration and initialization can be done in a single line as follows:\n",
    "```\n",
    "std::ifstream my_file(path);\n",
    "```\n",
    "C++ `ifstream` objects can also be used as a boolean to check if the stream has been created successfully. If the stream were to initialize successfully, then the `ifstream` object would evaluate to `true`. If there were to be an error opening the file or some other error creating the stream, then the `ifstream` object would evaluate to `false`.\n",
    "\n",
    "The following cell creates an input stream from the file `\"files/1.board\"`:"
   ]
  },
  {
   "cell_type": "code",
   "execution_count": null,
   "metadata": {
    "graffitiCellId": "id_bnkk0fc",
    "graffitiConfig": {
     "executeCellViaGraffiti": "58c9019_0za0pbg"
    }
   },
   "outputs": [],
   "source": [
    "#include <fstream>\n",
    "#include <iostream>\n",
    "#include <string>\n",
    "\n",
    "int main()\n",
    "{\n",
    "    std::ifstream my_file;\n",
    "    my_file.open(\"files/1.board\");\n",
    "    if (my_file) {\n",
    "      std::cout << \"The file stream has been created!\" << \"\\n\";\n",
    "    }    \n",
    "}"
   ]
  },
  {
   "cell_type": "markdown",
   "metadata": {
    "graffitiCellId": "id_58c9019"
   },
   "source": [
    "<span class=\"graffiti-highlight graffiti-id_58c9019-id_0za0pbg\"><i></i><button>Compile & Execute</button></span> &nbsp;\n",
    "<span class=\"graffiti-highlight graffiti-id_o4n0gvw-id_y0ksoqr\"><i></i><button>Explain</button></span>"
   ]
  },
  {
   "cell_type": "markdown",
   "metadata": {
    "graffitiCellId": "id_7qs09au",
    "graffitiConfig": {
     "rows": 6,
     "terminalId": "id_5h6ygux",
     "type": "terminal"
    }
   },
   "source": [
    "<i>Loading terminal (id_7qs09au), please wait...</i>"
   ]
  },
  {
   "cell_type": "markdown",
   "metadata": {
    "graffitiCellId": "id_q0mu3ig"
   },
   "source": [
    "### Reading Data from the Stream\n",
    "\n",
    "If the input file stream object has been successfully created, the lines of the input stream can be read using the `getline` method. In the cell below, a while loop has been added to the previous example to get each line from the stream and print it to the console."
   ]
  },
  {
   "cell_type": "code",
   "execution_count": null,
   "metadata": {
    "graffitiCellId": "id_76xktja",
    "graffitiConfig": {
     "executeCellViaGraffiti": "yp3d1cq_r88gybj"
    }
   },
   "outputs": [],
   "source": [
    "#include <fstream>\n",
    "#include <iostream>\n",
    "#include <string>\n",
    "\n",
    "int main() {\n",
    "    std::ifstream my_file;\n",
    "    my_file.open(\"files/1.board\");\n",
    "    if (my_file) {\n",
    "        std::cout << \"The file stream has been created!\" << \"\\n\";\n",
    "        std::string line;\n",
    "        while (getline(my_file, line)) {\n",
    "            std::cout << line << \"\\n\";\n",
    "        }\n",
    "    }\n",
    "}"
   ]
  },
  {
   "cell_type": "markdown",
   "metadata": {
    "graffitiCellId": "id_yp3d1cq"
   },
   "source": [
    "<span class=\"graffiti-highlight graffiti-id_yp3d1cq-id_r88gybj\"><i></i><button>Compile & Execute</button></span> &nbsp;\n",
    "<span class=\"graffiti-highlight graffiti-id_1ahhle0-id_ajn8w76\"><i></i><button>Explain</button></span>"
   ]
  },
  {
   "cell_type": "markdown",
   "metadata": {
    "graffitiCellId": "id_6gag5bi",
    "graffitiConfig": {
     "rows": 10,
     "terminalId": "id_z22a6fh",
     "type": "terminal"
    }
   },
   "source": [
    "<i>Loading terminal (id_6gag5bi), please wait...</i>"
   ]
  },
  {
   "cell_type": "markdown",
   "metadata": {
    "graffitiCellId": "id_s89boj6"
   },
   "source": [
    "### Recap\n",
    "\n",
    "That's it! To recap, there are essentially four steps to reading a file:\n",
    "1. `#include <fstream>`\n",
    "2. Create a `std::ifstream` object using the path to your file.\n",
    "3. Evaluate the `std::ifstream` object as a `bool` to ensure that the stream creation did not fail.\n",
    "4. Use a `while` loop with `getline` to write file lines to a string.\n",
    "\n",
    "\n",
    "## On to an Exercise\n",
    "\n",
    "Have a careful look at the code above for reading file lines into the code. In the next exercise, you will write a function to do this in your program."
   ]
  }
 ],
 "metadata": {
  "graffiti": {
   "firstAuthorId": "813558546",
   "id": "id_4evwuym",
   "language": "EN"
  },
  "kernelspec": {
   "display_name": "C++17",
   "language": "C++17",
   "name": "xeus-cling-cpp17"
  },
  "language_info": {
   "codemirror_mode": "text/x-c++src",
   "file_extension": ".cpp",
   "mimetype": "text/x-c++src",
   "name": "c++",
   "version": "-std=c++17"
  }
 },
 "nbformat": 4,
 "nbformat_minor": 2
}
