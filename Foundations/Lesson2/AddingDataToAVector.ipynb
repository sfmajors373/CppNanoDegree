{
 "cells": [
  {
   "cell_type": "markdown",
   "metadata": {
    "graffitiCellId": "id_b5l7n3z"
   },
   "source": [
    "## Vector push_back\n",
    "\n",
    "Now that you are able to process a string, you may want to store the results of the processing in a convenient container for later use. In the next exercise, you will store the streamed `int`s from each line of the board in a `vector<int>`. To do this, you will add the `int`s to the back of the vector, using the `vector` method `push_back`:"
   ]
  },
  {
   "cell_type": "code",
   "execution_count": null,
   "metadata": {
    "graffitiCellId": "id_6mhvybv",
    "graffitiConfig": {
     "executeCellViaGraffiti": "pi3s3vy_0id4ip6"
    }
   },
   "outputs": [],
   "source": [
    "#include <vector>\n",
    "#include <iostream>\n",
    "using std::vector;\n",
    "using std::cout;\n",
    "\n",
    "int main() {\n",
    "    // Initial Vector\n",
    "    vector v {1, 2, 3};\n",
    "    \n",
    "    // Print the contents of the vector\n",
    "    for (int i=0; i < v.size(); i++) {\n",
    "      cout << v[i] << \"\\n\";\n",
    "    }\n",
    "    \n",
    "    // Push 4 to the back of the vector\n",
    "    v.push_back(4);\n",
    "\n",
    "    // Print the contents again\n",
    "    for (int i=0; i < v.size(); i++) {\n",
    "      cout << v[i] << \"\\n\";\n",
    "    }\n",
    "    \n",
    "}"
   ]
  },
  {
   "cell_type": "markdown",
   "metadata": {
    "graffitiCellId": "id_pi3s3vy"
   },
   "source": [
    "<span class=\"graffiti-highlight graffiti-id_pi3s3vy-id_0id4ip6\"><i></i><button>Run Code</button></span> &nbsp; <span class=\"graffiti-highlight graffiti-id_bf96fzd-id_td35j0p\"><i></i><button>See Explanation</button></span>"
   ]
  },
  {
   "cell_type": "markdown",
   "metadata": {
    "graffitiCellId": "id_gixuguc",
    "graffitiConfig": {
     "rows": 10,
     "terminalId": "id_gixuguc",
     "type": "terminal"
    }
   },
   "source": [
    "<i>Loading terminal (id_gixuguc), please wait...</i>"
   ]
  },
  {
   "cell_type": "markdown",
   "metadata": {
    "graffitiCellId": "id_s1a0007"
   },
   "source": [
    "The `4` has been added to the end of the vector!\n",
    "\n",
    "## On to an Exercise\n",
    "\n",
    "In this section, you have learned about two useful tools:\n",
    "\n",
    "- String streams, and\n",
    "- `vector` `push_back`.\n",
    "\n",
    "The string streaming objects in C++ are very powerful, and there are many more ways that an `istringstream` can be used. We encourage you to have a look at all of the available functions in [the C++ reference](http://www.cplusplus.com/reference/sstream/istringstream/). However, at this point you are ready for the next exercise. In this exercise, you will parse string lines from the board and store the `int`s in a vector using the `istringstream` and `push_back` methods from above. Have a careful look at the examples again, and copy paste any code you think you might need before clicking the `Next` button below."
   ]
  },
  {
   "cell_type": "code",
   "execution_count": null,
   "metadata": {
    "graffitiCellId": "id_elyxcog"
   },
   "outputs": [],
   "source": []
  }
 ],
 "metadata": {
  "graffiti": {
   "firstAuthorId": "813558546",
   "id": "id_jvv9a24",
   "language": "EN"
  },
  "kernelspec": {
   "display_name": "C++17",
   "language": "C++17",
   "name": "xeus-cling-cpp17"
  },
  "language_info": {
   "codemirror_mode": "text/x-c++src",
   "file_extension": ".cpp",
   "mimetype": "text/x-c++src",
   "name": "c++",
   "version": "-std=c++17"
  }
 },
 "nbformat": 4,
 "nbformat_minor": 2
}
